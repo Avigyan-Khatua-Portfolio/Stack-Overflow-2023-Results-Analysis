{
 "cells": [
  {
   "cell_type": "markdown",
   "id": "4856602e",
   "metadata": {},
   "source": [
    "# Stack Overflow Survey Results 2023\n"
   ]
  },
  {
   "cell_type": "code",
   "execution_count": 1,
   "id": "0e75a510",
   "metadata": {},
   "outputs": [],
   "source": [
    "import numpy as np\n",
    "import pandas as pd\n",
    "import matplotlib.pyplot as plt\n",
    "import seaborn as sns\n",
    "\n",
    "colour_scheme = ['#C0ED42', '#FFE301', '#FFF352', '#FF85DA', '#FF69B3', '#A15AC4']"
   ]
  },
  {
   "cell_type": "code",
   "execution_count": 2,
   "id": "ec1b67ac",
   "metadata": {},
   "outputs": [],
   "source": [
    "%matplotlib inline"
   ]
  },
  {
   "cell_type": "markdown",
   "id": "ff6a71dd",
   "metadata": {},
   "source": [
    "### Loading the datasets into dataframes"
   ]
  },
  {
   "cell_type": "code",
   "execution_count": 3,
   "id": "78ba83a2",
   "metadata": {},
   "outputs": [],
   "source": [
    "results = pd.read_csv('survey_results_public.csv')\n",
    "schema = pd.read_csv('survey_results_schema.csv')"
   ]
  },
  {
   "cell_type": "code",
   "execution_count": 4,
   "id": "123e2961",
   "metadata": {
    "scrolled": true
   },
   "outputs": [
    {
     "name": "stdout",
     "output_type": "stream",
     "text": [
      "<class 'pandas.core.frame.DataFrame'>\n",
      "RangeIndex: 89184 entries, 0 to 89183\n",
      "Data columns (total 84 columns):\n",
      " #   Column                               Non-Null Count  Dtype  \n",
      "---  ------                               --------------  -----  \n",
      " 0   ResponseId                           89184 non-null  int64  \n",
      " 1   Q120                                 89184 non-null  object \n",
      " 2   MainBranch                           89184 non-null  object \n",
      " 3   Age                                  89184 non-null  object \n",
      " 4   Employment                           87898 non-null  object \n",
      " 5   RemoteWork                           73810 non-null  object \n",
      " 6   CodingActivities                     73764 non-null  object \n",
      " 7   EdLevel                              87973 non-null  object \n",
      " 8   LearnCode                            87663 non-null  object \n",
      " 9   LearnCodeOnline                      70084 non-null  object \n",
      " 10  LearnCodeCoursesCert                 37076 non-null  object \n",
      " 11  YearsCode                            87435 non-null  object \n",
      " 12  YearsCodePro                         66136 non-null  object \n",
      " 13  DevType                              76872 non-null  object \n",
      " 14  OrgSize                              65043 non-null  object \n",
      " 15  PurchaseInfluence                    64964 non-null  object \n",
      " 16  TechList                             60851 non-null  object \n",
      " 17  BuyNewTool                           83009 non-null  object \n",
      " 18  Country                              87973 non-null  object \n",
      " 19  Currency                             65334 non-null  object \n",
      " 20  CompTotal                            48225 non-null  float64\n",
      " 21  LanguageHaveWorkedWith               87140 non-null  object \n",
      " 22  LanguageWantToWorkWith               80709 non-null  object \n",
      " 23  DatabaseHaveWorkedWith               73435 non-null  object \n",
      " 24  DatabaseWantToWorkWith               60911 non-null  object \n",
      " 25  PlatformHaveWorkedWith               63628 non-null  object \n",
      " 26  PlatformWantToWorkWith               51308 non-null  object \n",
      " 27  WebframeHaveWorkedWith               66938 non-null  object \n",
      " 28  WebframeWantToWorkWith               56741 non-null  object \n",
      " 29  MiscTechHaveWorkedWith               57019 non-null  object \n",
      " 30  MiscTechWantToWorkWith               46848 non-null  object \n",
      " 31  ToolsTechHaveWorkedWith              77884 non-null  object \n",
      " 32  ToolsTechWantToWorkWith              68315 non-null  object \n",
      " 33  NEWCollabToolsHaveWorkedWith         85864 non-null  object \n",
      " 34  NEWCollabToolsWantToWorkWith         76649 non-null  object \n",
      " 35  OpSysPersonal use                    86557 non-null  object \n",
      " 36  OpSysProfessional use                78587 non-null  object \n",
      " 37  OfficeStackAsyncHaveWorkedWith       69090 non-null  object \n",
      " 38  OfficeStackAsyncWantToWorkWith       53743 non-null  object \n",
      " 39  OfficeStackSyncHaveWorkedWith        83439 non-null  object \n",
      " 40  OfficeStackSyncWantToWorkWith        69776 non-null  object \n",
      " 41  AISearchHaveWorkedWith               56328 non-null  object \n",
      " 42  AISearchWantToWorkWith               46150 non-null  object \n",
      " 43  AIDevHaveWorkedWith                  25904 non-null  object \n",
      " 44  AIDevWantToWorkWith                  19587 non-null  object \n",
      " 45  NEWSOSites                           87973 non-null  object \n",
      " 46  SOVisitFreq                          87140 non-null  object \n",
      " 47  SOAccount                            87852 non-null  object \n",
      " 48  SOPartFreq                           66061 non-null  object \n",
      " 49  SOComm                               87692 non-null  object \n",
      " 50  SOAI                                 47858 non-null  object \n",
      " 51  AISelect                             87973 non-null  object \n",
      " 52  AISent                               61501 non-null  object \n",
      " 53  AIAcc                                38594 non-null  object \n",
      " 54  AIBen                                61396 non-null  object \n",
      " 55  AIToolInterested in Using            32783 non-null  object \n",
      " 56  AIToolCurrently Using                36137 non-null  object \n",
      " 57  AIToolNot interested in Using        21069 non-null  object \n",
      " 58  AINextVery different                 12661 non-null  object \n",
      " 59  AINextNeither different nor similar  6599 non-null   object \n",
      " 60  AINextSomewhat similar               6238 non-null   object \n",
      " 61  AINextVery similar                   2621 non-null   object \n",
      " 62  AINextSomewhat different             23303 non-null  object \n",
      " 63  TBranch                              65768 non-null  object \n",
      " 64  ICorPM                               43668 non-null  object \n",
      " 65  WorkExp                              43579 non-null  float64\n",
      " 66  Knowledge_1                          42535 non-null  object \n",
      " 67  Knowledge_2                          41670 non-null  object \n",
      " 68  Knowledge_3                          41798 non-null  object \n",
      " 69  Knowledge_4                          41684 non-null  object \n",
      " 70  Knowledge_5                          41527 non-null  object \n",
      " 71  Knowledge_6                          41520 non-null  object \n",
      " 72  Knowledge_7                          41467 non-null  object \n",
      " 73  Knowledge_8                          41404 non-null  object \n",
      " 74  Frequency_1                          41916 non-null  object \n",
      " 75  Frequency_2                          41925 non-null  object \n",
      " 76  Frequency_3                          41054 non-null  object \n",
      " 77  TimeSearching                        42778 non-null  object \n",
      " 78  TimeAnswering                        42629 non-null  object \n",
      " 79  ProfessionalTech                     41783 non-null  object \n",
      " 80  Industry                             36774 non-null  object \n",
      " 81  SurveyLength                         86485 non-null  object \n",
      " 82  SurveyEase                           86554 non-null  object \n",
      " 83  ConvertedCompYearly                  48019 non-null  float64\n",
      "dtypes: float64(3), int64(1), object(80)\n",
      "memory usage: 57.2+ MB\n"
     ]
    }
   ],
   "source": [
    "results.info()"
   ]
  },
  {
   "cell_type": "code",
   "execution_count": 5,
   "id": "f82e6823",
   "metadata": {
    "scrolled": true
   },
   "outputs": [
    {
     "data": {
      "text/html": [
       "<div>\n",
       "<style scoped>\n",
       "    .dataframe tbody tr th:only-of-type {\n",
       "        vertical-align: middle;\n",
       "    }\n",
       "\n",
       "    .dataframe tbody tr th {\n",
       "        vertical-align: top;\n",
       "    }\n",
       "\n",
       "    .dataframe thead th {\n",
       "        text-align: right;\n",
       "    }\n",
       "</style>\n",
       "<table border=\"1\" class=\"dataframe\">\n",
       "  <thead>\n",
       "    <tr style=\"text-align: right;\">\n",
       "      <th></th>\n",
       "      <th>qid</th>\n",
       "      <th>qname</th>\n",
       "      <th>question</th>\n",
       "      <th>force_resp</th>\n",
       "      <th>type</th>\n",
       "      <th>selector</th>\n",
       "    </tr>\n",
       "  </thead>\n",
       "  <tbody>\n",
       "    <tr>\n",
       "      <th>0</th>\n",
       "      <td>QID16</td>\n",
       "      <td>S0</td>\n",
       "      <td>&lt;div&gt;&lt;span style=\"font-size:19px;\"&gt;&lt;strong&gt;Hel...</td>\n",
       "      <td>False</td>\n",
       "      <td>DB</td>\n",
       "      <td>TB</td>\n",
       "    </tr>\n",
       "    <tr>\n",
       "      <th>1</th>\n",
       "      <td>QID12</td>\n",
       "      <td>MetaInfo</td>\n",
       "      <td>Browser Meta Info</td>\n",
       "      <td>False</td>\n",
       "      <td>Meta</td>\n",
       "      <td>Browser</td>\n",
       "    </tr>\n",
       "    <tr>\n",
       "      <th>2</th>\n",
       "      <td>QID310</td>\n",
       "      <td>Q310</td>\n",
       "      <td>&lt;div&gt;&lt;span style=\"font-size:19px;\"&gt;&lt;strong&gt;You...</td>\n",
       "      <td>False</td>\n",
       "      <td>DB</td>\n",
       "      <td>TB</td>\n",
       "    </tr>\n",
       "    <tr>\n",
       "      <th>3</th>\n",
       "      <td>QID312</td>\n",
       "      <td>Q120</td>\n",
       "      <td></td>\n",
       "      <td>True</td>\n",
       "      <td>MC</td>\n",
       "      <td>SAVR</td>\n",
       "    </tr>\n",
       "    <tr>\n",
       "      <th>4</th>\n",
       "      <td>QID1</td>\n",
       "      <td>S1</td>\n",
       "      <td>&lt;span style=\"font-size:22px; font-family: aria...</td>\n",
       "      <td>False</td>\n",
       "      <td>DB</td>\n",
       "      <td>TB</td>\n",
       "    </tr>\n",
       "    <tr>\n",
       "      <th>...</th>\n",
       "      <td>...</td>\n",
       "      <td>...</td>\n",
       "      <td>...</td>\n",
       "      <td>...</td>\n",
       "      <td>...</td>\n",
       "      <td>...</td>\n",
       "    </tr>\n",
       "    <tr>\n",
       "      <th>73</th>\n",
       "      <td>QID289</td>\n",
       "      <td>Knowledge_7</td>\n",
       "      <td>Waiting on answers to questions often causes i...</td>\n",
       "      <td>NaN</td>\n",
       "      <td>MC</td>\n",
       "      <td>MAVR</td>\n",
       "    </tr>\n",
       "    <tr>\n",
       "      <th>74</th>\n",
       "      <td>QID289</td>\n",
       "      <td>Knowledge_8</td>\n",
       "      <td>I feel like I have the tools and/or resources ...</td>\n",
       "      <td>NaN</td>\n",
       "      <td>MC</td>\n",
       "      <td>MAVR</td>\n",
       "    </tr>\n",
       "    <tr>\n",
       "      <th>75</th>\n",
       "      <td>QID290</td>\n",
       "      <td>Frequency_1</td>\n",
       "      <td>Needing help from people outside of your immed...</td>\n",
       "      <td>NaN</td>\n",
       "      <td>MC</td>\n",
       "      <td>MAVR</td>\n",
       "    </tr>\n",
       "    <tr>\n",
       "      <th>76</th>\n",
       "      <td>QID290</td>\n",
       "      <td>Frequency_2</td>\n",
       "      <td>Interacting with people outside of your immedi...</td>\n",
       "      <td>NaN</td>\n",
       "      <td>MC</td>\n",
       "      <td>MAVR</td>\n",
       "    </tr>\n",
       "    <tr>\n",
       "      <th>77</th>\n",
       "      <td>QID290</td>\n",
       "      <td>Frequency_3</td>\n",
       "      <td>Encountering knowledge silos (where one indivi...</td>\n",
       "      <td>NaN</td>\n",
       "      <td>MC</td>\n",
       "      <td>MAVR</td>\n",
       "    </tr>\n",
       "  </tbody>\n",
       "</table>\n",
       "<p>78 rows × 6 columns</p>\n",
       "</div>"
      ],
      "text/plain": [
       "       qid        qname                                           question  \\\n",
       "0    QID16           S0  <div><span style=\"font-size:19px;\"><strong>Hel...   \n",
       "1    QID12     MetaInfo                                  Browser Meta Info   \n",
       "2   QID310         Q310  <div><span style=\"font-size:19px;\"><strong>You...   \n",
       "3   QID312         Q120                                                      \n",
       "4     QID1           S1  <span style=\"font-size:22px; font-family: aria...   \n",
       "..     ...          ...                                                ...   \n",
       "73  QID289  Knowledge_7  Waiting on answers to questions often causes i...   \n",
       "74  QID289  Knowledge_8  I feel like I have the tools and/or resources ...   \n",
       "75  QID290  Frequency_1  Needing help from people outside of your immed...   \n",
       "76  QID290  Frequency_2  Interacting with people outside of your immedi...   \n",
       "77  QID290  Frequency_3  Encountering knowledge silos (where one indivi...   \n",
       "\n",
       "   force_resp  type selector  \n",
       "0       False    DB       TB  \n",
       "1       False  Meta  Browser  \n",
       "2       False    DB       TB  \n",
       "3        True    MC     SAVR  \n",
       "4       False    DB       TB  \n",
       "..        ...   ...      ...  \n",
       "73        NaN    MC     MAVR  \n",
       "74        NaN    MC     MAVR  \n",
       "75        NaN    MC     MAVR  \n",
       "76        NaN    MC     MAVR  \n",
       "77        NaN    MC     MAVR  \n",
       "\n",
       "[78 rows x 6 columns]"
      ]
     },
     "execution_count": 5,
     "metadata": {},
     "output_type": "execute_result"
    }
   ],
   "source": [
    "schema"
   ]
  },
  {
   "cell_type": "markdown",
   "id": "520cea9c",
   "metadata": {},
   "source": [
    "### In which industries do developers get paid the most? Which industry employs the highest number of people?"
   ]
  },
  {
   "cell_type": "markdown",
   "id": "36556a62",
   "metadata": {},
   "source": [
    "#### Finding the industries of the top 5 highest earning developers"
   ]
  },
  {
   "cell_type": "code",
   "execution_count": 6,
   "id": "d45ff68d",
   "metadata": {},
   "outputs": [
    {
     "data": {
      "text/plain": [
       "53268    74351432.0\n",
       "77848    73607918.0\n",
       "66223    72714292.0\n",
       "28121    57513831.0\n",
       "19679    36573181.0\n",
       "Name: ConvertedCompYearly, dtype: float64"
      ]
     },
     "execution_count": 6,
     "metadata": {},
     "output_type": "execute_result"
    }
   ],
   "source": [
    "results.ConvertedCompYearly.sort_values(ascending = False).head(5)"
   ]
  },
  {
   "cell_type": "code",
   "execution_count": 7,
   "id": "cce0a04e",
   "metadata": {},
   "outputs": [
    {
     "data": {
      "text/html": [
       "<div>\n",
       "<style scoped>\n",
       "    .dataframe tbody tr th:only-of-type {\n",
       "        vertical-align: middle;\n",
       "    }\n",
       "\n",
       "    .dataframe tbody tr th {\n",
       "        vertical-align: top;\n",
       "    }\n",
       "\n",
       "    .dataframe thead th {\n",
       "        text-align: right;\n",
       "    }\n",
       "</style>\n",
       "<table border=\"1\" class=\"dataframe\">\n",
       "  <thead>\n",
       "    <tr style=\"text-align: right;\">\n",
       "      <th></th>\n",
       "      <th>Industry</th>\n",
       "      <th>ConvertedCompYearly</th>\n",
       "    </tr>\n",
       "  </thead>\n",
       "  <tbody>\n",
       "    <tr>\n",
       "      <th>53268</th>\n",
       "      <td>Information Services, IT, Software Development...</td>\n",
       "      <td>74351432.0</td>\n",
       "    </tr>\n",
       "    <tr>\n",
       "      <th>77848</th>\n",
       "      <td>Other</td>\n",
       "      <td>73607918.0</td>\n",
       "    </tr>\n",
       "    <tr>\n",
       "      <th>66223</th>\n",
       "      <td>NaN</td>\n",
       "      <td>72714292.0</td>\n",
       "    </tr>\n",
       "    <tr>\n",
       "      <th>28121</th>\n",
       "      <td>Financial Services</td>\n",
       "      <td>57513831.0</td>\n",
       "    </tr>\n",
       "    <tr>\n",
       "      <th>19679</th>\n",
       "      <td>NaN</td>\n",
       "      <td>36573181.0</td>\n",
       "    </tr>\n",
       "  </tbody>\n",
       "</table>\n",
       "</div>"
      ],
      "text/plain": [
       "                                                Industry  ConvertedCompYearly\n",
       "53268  Information Services, IT, Software Development...           74351432.0\n",
       "77848                                              Other           73607918.0\n",
       "66223                                                NaN           72714292.0\n",
       "28121                                 Financial Services           57513831.0\n",
       "19679                                                NaN           36573181.0"
      ]
     },
     "execution_count": 7,
     "metadata": {},
     "output_type": "execute_result"
    }
   ],
   "source": [
    "results.loc[results.ConvertedCompYearly.sort_values(ascending = False).head(5).index, ('Industry', 'ConvertedCompYearly')]"
   ]
  },
  {
   "cell_type": "markdown",
   "id": "a1404cab",
   "metadata": {},
   "source": [
    "While this does tell us that the highest earning developer comes from the 'Information Services, IT, Software Development, or other Technology' industry, it does not tell us much more about it as there is an 'Other' category as well as some null values.\n",
    "A better measure will be to compare the average incomes of developers from all the industries."
   ]
  },
  {
   "cell_type": "code",
   "execution_count": 8,
   "id": "b9907ae3",
   "metadata": {
    "scrolled": true
   },
   "outputs": [
    {
     "data": {
      "text/html": [
       "<div>\n",
       "<style scoped>\n",
       "    .dataframe tbody tr th:only-of-type {\n",
       "        vertical-align: middle;\n",
       "    }\n",
       "\n",
       "    .dataframe tbody tr th {\n",
       "        vertical-align: top;\n",
       "    }\n",
       "\n",
       "    .dataframe thead th {\n",
       "        text-align: right;\n",
       "    }\n",
       "</style>\n",
       "<table border=\"1\" class=\"dataframe\">\n",
       "  <thead>\n",
       "    <tr style=\"text-align: right;\">\n",
       "      <th></th>\n",
       "      <th>Industry</th>\n",
       "    </tr>\n",
       "  </thead>\n",
       "  <tbody>\n",
       "    <tr>\n",
       "      <th>0</th>\n",
       "      <td>Information Services, IT, Software Development...</td>\n",
       "    </tr>\n",
       "    <tr>\n",
       "      <th>1</th>\n",
       "      <td>Financial Services</td>\n",
       "    </tr>\n",
       "    <tr>\n",
       "      <th>2</th>\n",
       "      <td>Other</td>\n",
       "    </tr>\n",
       "    <tr>\n",
       "      <th>3</th>\n",
       "      <td>Manufacturing, Transportation, or Supply Chain</td>\n",
       "    </tr>\n",
       "    <tr>\n",
       "      <th>4</th>\n",
       "      <td>Healthcare</td>\n",
       "    </tr>\n",
       "    <tr>\n",
       "      <th>5</th>\n",
       "      <td>Retail and Consumer Services</td>\n",
       "    </tr>\n",
       "    <tr>\n",
       "      <th>6</th>\n",
       "      <td>Higher Education</td>\n",
       "    </tr>\n",
       "    <tr>\n",
       "      <th>7</th>\n",
       "      <td>Advertising Services</td>\n",
       "    </tr>\n",
       "    <tr>\n",
       "      <th>8</th>\n",
       "      <td>Insurance</td>\n",
       "    </tr>\n",
       "    <tr>\n",
       "      <th>9</th>\n",
       "      <td>Oil &amp; Gas</td>\n",
       "    </tr>\n",
       "    <tr>\n",
       "      <th>10</th>\n",
       "      <td>Legal Services</td>\n",
       "    </tr>\n",
       "    <tr>\n",
       "      <th>11</th>\n",
       "      <td>Wholesale</td>\n",
       "    </tr>\n",
       "  </tbody>\n",
       "</table>\n",
       "</div>"
      ],
      "text/plain": [
       "                                             Industry\n",
       "0   Information Services, IT, Software Development...\n",
       "1                                  Financial Services\n",
       "2                                               Other\n",
       "3      Manufacturing, Transportation, or Supply Chain\n",
       "4                                          Healthcare\n",
       "5                        Retail and Consumer Services\n",
       "6                                    Higher Education\n",
       "7                                Advertising Services\n",
       "8                                           Insurance\n",
       "9                                           Oil & Gas\n",
       "10                                     Legal Services\n",
       "11                                          Wholesale"
      ]
     },
     "execution_count": 8,
     "metadata": {},
     "output_type": "execute_result"
    }
   ],
   "source": [
    "# Getting all the industries\n",
    "industries = pd.DataFrame(results['Industry'].value_counts().index)\n",
    "industries"
   ]
  },
  {
   "cell_type": "code",
   "execution_count": 9,
   "id": "7f49a91c",
   "metadata": {},
   "outputs": [
    {
     "data": {
      "text/plain": [
       "Industry\n",
       "Information Services, IT, Software Development, or other Technology    18159\n",
       "Financial Services                                                      4421\n",
       "Other                                                                   4011\n",
       "Manufacturing, Transportation, or Supply Chain                          2607\n",
       "Healthcare                                                              2216\n",
       "Retail and Consumer Services                                            1955\n",
       "Higher Education                                                        1242\n",
       "Advertising Services                                                     786\n",
       "Insurance                                                                707\n",
       "Oil & Gas                                                                276\n",
       "Legal Services                                                           210\n",
       "Wholesale                                                                184\n",
       "Name: count, dtype: int64"
      ]
     },
     "execution_count": 9,
     "metadata": {},
     "output_type": "execute_result"
    }
   ],
   "source": [
    "results['Industry'].value_counts()"
   ]
  },
  {
   "cell_type": "code",
   "execution_count": 10,
   "id": "6fe6e724",
   "metadata": {},
   "outputs": [],
   "source": [
    "# Computing the mean income of all the industries\n",
    "\n",
    "it_avg = results.loc[results['Industry'] == 'Information Services, IT, Software Development, or other Technology', 'ConvertedCompYearly'].mean()\n",
    "fin_avg = results.loc[results['Industry'] == 'Financial Services', 'ConvertedCompYearly'].mean()\n",
    "oth_avg = results.loc[results['Industry'] == 'Other', 'ConvertedCompYearly'].mean()\n",
    "manu_avg = results.loc[results['Industry'] == 'Manufacturing, Transportation, or Supply Chain', 'ConvertedCompYearly'].mean()\n",
    "hel_avg = results.loc[results['Industry'] == 'Healthcare', 'ConvertedCompYearly'].mean()\n",
    "ret_avg = results.loc[results['Industry'] == 'Retail and Consumer Services', 'ConvertedCompYearly'].mean()\n",
    "edu_avg = results.loc[results['Industry'] == 'Higher Education', 'ConvertedCompYearly'].mean()\n",
    "adv_avg = results.loc[results['Industry'] == 'Advertising Services', 'ConvertedCompYearly'].mean()\n",
    "insu_avg = results.loc[results['Industry'] == 'Insurance', 'ConvertedCompYearly'].mean()\n",
    "oil_avg = results.loc[results['Industry'] == 'Oil & Gas', 'ConvertedCompYearly'].mean()\n",
    "law_avg = results.loc[results['Industry'] == 'Legal Services', 'ConvertedCompYearly'].mean()\n",
    "hol_avg = results.loc[results['Industry'] == 'Wholesale', 'ConvertedCompYearly'].mean()"
   ]
  },
  {
   "cell_type": "code",
   "execution_count": 11,
   "id": "b573dbd9",
   "metadata": {},
   "outputs": [],
   "source": [
    "# Making a list of the average incomes\n",
    "average_incomes = [it_avg, \n",
    "    fin_avg, \n",
    "    oth_avg, \n",
    "    manu_avg, \n",
    "    hel_avg, \n",
    "    ret_avg, \n",
    "    edu_avg, \n",
    "    adv_avg, \n",
    "    insu_avg, \n",
    "    oil_avg, \n",
    "    law_avg, \n",
    "    hol_avg]"
   ]
  },
  {
   "cell_type": "code",
   "execution_count": 12,
   "id": "e9c40979",
   "metadata": {},
   "outputs": [],
   "source": [
    "# Rounding the averages\n",
    "average_incomes_round = []\n",
    "for value in average_incomes:\n",
    "    value = round(value,1)\n",
    "    average_incomes_round.append(value)"
   ]
  },
  {
   "cell_type": "code",
   "execution_count": 13,
   "id": "608308a2",
   "metadata": {},
   "outputs": [],
   "source": [
    "# Making a list of the counts\n",
    "count = list(results['Industry'].value_counts())"
   ]
  },
  {
   "cell_type": "code",
   "execution_count": 14,
   "id": "eff4e048",
   "metadata": {},
   "outputs": [],
   "source": [
    "# Adding to the dataframe\n",
    "industries['Count'] = count\n",
    "industries['Average Income'] = average_incomes_round"
   ]
  },
  {
   "cell_type": "code",
   "execution_count": 15,
   "id": "5fc8703e",
   "metadata": {},
   "outputs": [],
   "source": [
    "industries.sort_values('Average Income', ascending = False, inplace = True, ignore_index = True)"
   ]
  },
  {
   "cell_type": "code",
   "execution_count": 16,
   "id": "8e0e7ed6",
   "metadata": {
    "scrolled": false
   },
   "outputs": [],
   "source": [
    "#Renaming Industries to better names\n",
    "\n",
    "for index, value in enumerate(industries.Industry):\n",
    "    name = value.split()\n",
    "    industries.loc[index, 'Industry'] = name[0]"
   ]
  },
  {
   "cell_type": "code",
   "execution_count": 17,
   "id": "961549d3",
   "metadata": {},
   "outputs": [
    {
     "data": {
      "text/html": [
       "<div>\n",
       "<style scoped>\n",
       "    .dataframe tbody tr th:only-of-type {\n",
       "        vertical-align: middle;\n",
       "    }\n",
       "\n",
       "    .dataframe tbody tr th {\n",
       "        vertical-align: top;\n",
       "    }\n",
       "\n",
       "    .dataframe thead th {\n",
       "        text-align: right;\n",
       "    }\n",
       "</style>\n",
       "<table border=\"1\" class=\"dataframe\">\n",
       "  <thead>\n",
       "    <tr style=\"text-align: right;\">\n",
       "      <th></th>\n",
       "      <th>Industry</th>\n",
       "      <th>Count</th>\n",
       "      <th>Average Income</th>\n",
       "    </tr>\n",
       "  </thead>\n",
       "  <tbody>\n",
       "    <tr>\n",
       "      <th>0</th>\n",
       "      <td>Other</td>\n",
       "      <td>4011</td>\n",
       "      <td>124289.0</td>\n",
       "    </tr>\n",
       "    <tr>\n",
       "      <th>1</th>\n",
       "      <td>Financial</td>\n",
       "      <td>4421</td>\n",
       "      <td>123977.3</td>\n",
       "    </tr>\n",
       "    <tr>\n",
       "      <th>2</th>\n",
       "      <td>Advertising</td>\n",
       "      <td>786</td>\n",
       "      <td>112730.7</td>\n",
       "    </tr>\n",
       "    <tr>\n",
       "      <th>3</th>\n",
       "      <td>Healthcare</td>\n",
       "      <td>2216</td>\n",
       "      <td>103571.1</td>\n",
       "    </tr>\n",
       "    <tr>\n",
       "      <th>4</th>\n",
       "      <td>Insurance</td>\n",
       "      <td>707</td>\n",
       "      <td>100366.5</td>\n",
       "    </tr>\n",
       "    <tr>\n",
       "      <th>5</th>\n",
       "      <td>Retail</td>\n",
       "      <td>1955</td>\n",
       "      <td>98212.0</td>\n",
       "    </tr>\n",
       "    <tr>\n",
       "      <th>6</th>\n",
       "      <td>Information</td>\n",
       "      <td>18159</td>\n",
       "      <td>94924.3</td>\n",
       "    </tr>\n",
       "    <tr>\n",
       "      <th>7</th>\n",
       "      <td>Manufacturing</td>\n",
       "      <td>2607</td>\n",
       "      <td>89943.5</td>\n",
       "    </tr>\n",
       "    <tr>\n",
       "      <th>8</th>\n",
       "      <td>Oil</td>\n",
       "      <td>276</td>\n",
       "      <td>88982.9</td>\n",
       "    </tr>\n",
       "    <tr>\n",
       "      <th>9</th>\n",
       "      <td>Legal</td>\n",
       "      <td>210</td>\n",
       "      <td>88300.6</td>\n",
       "    </tr>\n",
       "    <tr>\n",
       "      <th>10</th>\n",
       "      <td>Higher</td>\n",
       "      <td>1242</td>\n",
       "      <td>72076.9</td>\n",
       "    </tr>\n",
       "    <tr>\n",
       "      <th>11</th>\n",
       "      <td>Wholesale</td>\n",
       "      <td>184</td>\n",
       "      <td>71881.7</td>\n",
       "    </tr>\n",
       "  </tbody>\n",
       "</table>\n",
       "</div>"
      ],
      "text/plain": [
       "         Industry  Count  Average Income\n",
       "0           Other   4011        124289.0\n",
       "1       Financial   4421        123977.3\n",
       "2     Advertising    786        112730.7\n",
       "3      Healthcare   2216        103571.1\n",
       "4       Insurance    707        100366.5\n",
       "5          Retail   1955         98212.0\n",
       "6     Information  18159         94924.3\n",
       "7   Manufacturing   2607         89943.5\n",
       "8             Oil    276         88982.9\n",
       "9           Legal    210         88300.6\n",
       "10         Higher   1242         72076.9\n",
       "11      Wholesale    184         71881.7"
      ]
     },
     "execution_count": 17,
     "metadata": {},
     "output_type": "execute_result"
    }
   ],
   "source": [
    "industries.loc[7, 'Industry'] = 'Manufacturing'\n",
    "industries"
   ]
  },
  {
   "cell_type": "markdown",
   "id": "eb364c8e",
   "metadata": {},
   "source": [
    "#### Bar Graph - Average Yearly Incomes per Industry"
   ]
  },
  {
   "cell_type": "code",
   "execution_count": 18,
   "id": "d5659b5d",
   "metadata": {},
   "outputs": [
    {
     "data": {
      "image/png": "[encoded data removed]",
      "text/plain": [
       "<Figure size 1080x504 with 1 Axes>"
      ]
     },
     "metadata": {
      "needs_background": "light"
     },
     "output_type": "display_data"
    }
   ],
   "source": [
    "def addlabels(x,y):\n",
    "    for i in range(len(x)):\n",
    "        plt.text(i, y[i], y[i], ha = 'center')\n",
    "        \n",
    "plt.figure(figsize = (15,7))\n",
    "plt.bar(industries.Industry, industries['Average Income'], color = colour_scheme[1])\n",
    "plt.xticks(rotation=90)\n",
    "plt.title('Average Yearly Incomes per Industry')\n",
    "plt.xlabel('Industry')\n",
    "plt.ylabel('Average Yearly Income')\n",
    "addlabels(industries.Industry, industries['Average Income'])\n",
    "plt.show()"
   ]
  },
  {
   "cell_type": "markdown",
   "id": "11cd7fc3",
   "metadata": {},
   "source": [
    "From the bar graph, it is observed that developers working in **Other industries, such as freelance, etc. are being paid the highest, on average (124289.0).** They are closely followed by developers working in **Financial Services (123977.3).**"
   ]
  },
  {
   "cell_type": "markdown",
   "id": "ae3a9d1c",
   "metadata": {},
   "source": [
    "#### Pie Chart - Number of Developers working in each Industry"
   ]
  },
  {
   "cell_type": "code",
   "execution_count": 19,
   "id": "28b5e9d6",
   "metadata": {},
   "outputs": [],
   "source": [
    "label = []\n",
    "for index, value in enumerate(industries.Industry):\n",
    "    percent = round(((industries['Count'][index]/industries['Count'].sum())*100),2)\n",
    "    label.append(f'{value}: {percent}%')"
   ]
  },
  {
   "cell_type": "code",
   "execution_count": 20,
   "id": "a0dbfb2c",
   "metadata": {},
   "outputs": [
    {
     "data": {
      "image/png": "[encoded data removed]",
      "text/plain": [
       "<Figure size 720x720 with 1 Axes>"
      ]
     },
     "metadata": {},
     "output_type": "display_data"
    }
   ],
   "source": [
    "plt.figure(figsize = (10,10))\n",
    "plt.pie(industries['Count'], labels = label, colors = colour_scheme)\n",
    "plt.title('Number of Developers working in each Industry')\n",
    "plt.show()"
   ]
  },
  {
   "cell_type": "markdown",
   "id": "5dbdeeff",
   "metadata": {},
   "source": [
    "From the pie chart, it is clear that **almost half the number of developers work in the Information Services Industry.** The Financial Services Industry is the next most popular, at about 12.02% developers working here. It is also one of the most highly paying industries."
   ]
  },
  {
   "cell_type": "markdown",
   "id": "6615d7d3",
   "metadata": {},
   "source": [
    "### How much does remote working matter to employees?"
   ]
  },
  {
   "cell_type": "code",
   "execution_count": 21,
   "id": "8db3d36d",
   "metadata": {
    "scrolled": true
   },
   "outputs": [
    {
     "data": {
      "text/plain": [
       "RemoteWork\n",
       "Hybrid (some remote, some in-person)    31131\n",
       "Remote                                  30566\n",
       "In-person                               12113\n",
       "Name: count, dtype: int64"
      ]
     },
     "execution_count": 21,
     "metadata": {},
     "output_type": "execute_result"
    }
   ],
   "source": [
    "# Getting an idea of the data\n",
    "results.RemoteWork.value_counts()"
   ]
  },
  {
   "cell_type": "code",
   "execution_count": 22,
   "id": "f2254382",
   "metadata": {},
   "outputs": [],
   "source": [
    "remote_percent = (results.RemoteWork.value_counts()/results.RemoteWork.value_counts().sum())*100"
   ]
  },
  {
   "cell_type": "markdown",
   "id": "4a2df314",
   "metadata": {},
   "source": [
    "#### Pie Chart - People in Respective Work Modes"
   ]
  },
  {
   "cell_type": "code",
   "execution_count": 23,
   "id": "4c96ee93",
   "metadata": {},
   "outputs": [
    {
     "data": {
      "image/png": "[encoded data removed]",
      "text/plain": [
       "<Figure size 720x720 with 1 Axes>"
      ]
     },
     "metadata": {},
     "output_type": "display_data"
    }
   ],
   "source": [
    "plt.figure(figsize = (10,10))\n",
    "plt.pie(remote_percent, labels = ['Hybrid', 'Remote', 'In-person'], colors = colour_scheme, autopct='%1.2f%%')\n",
    "plt.title('People in Respective Work Modes')\n",
    "plt.show()"
   ]
  },
  {
   "cell_type": "markdown",
   "id": "7313c9a0",
   "metadata": {},
   "source": [
    "From the pie chart, it is clear that **significantly more people are working remotely (41.41%) or in hybrid format(42.18%) than in-person(16.41%).**"
   ]
  },
  {
   "cell_type": "markdown",
   "id": "b6456acb",
   "metadata": {},
   "source": [
    "### How does coding experience affect the level of pay?"
   ]
  },
  {
   "cell_type": "code",
   "execution_count": 24,
   "id": "809f1891",
   "metadata": {},
   "outputs": [],
   "source": [
    "# Taking a look at YearsCode, YearsCodePro and ConvertedCompYearly\n",
    "coding = results.loc[results.index,['YearsCode','YearsCodePro', 'ConvertedCompYearly']]"
   ]
  },
  {
   "cell_type": "code",
   "execution_count": 25,
   "id": "49333db5",
   "metadata": {},
   "outputs": [
    {
     "name": "stdout",
     "output_type": "stream",
     "text": [
      "<class 'pandas.core.frame.DataFrame'>\n",
      "Index: 89184 entries, 0 to 89183\n",
      "Data columns (total 3 columns):\n",
      " #   Column               Non-Null Count  Dtype  \n",
      "---  ------               --------------  -----  \n",
      " 0   YearsCode            87435 non-null  object \n",
      " 1   YearsCodePro         66136 non-null  object \n",
      " 2   ConvertedCompYearly  48019 non-null  float64\n",
      "dtypes: float64(1), object(2)\n",
      "memory usage: 2.7+ MB\n"
     ]
    }
   ],
   "source": [
    "coding.info()"
   ]
  },
  {
   "cell_type": "code",
   "execution_count": 26,
   "id": "2ca35658",
   "metadata": {
    "scrolled": true
   },
   "outputs": [
    {
     "data": {
      "text/html": [
       "<div>\n",
       "<style scoped>\n",
       "    .dataframe tbody tr th:only-of-type {\n",
       "        vertical-align: middle;\n",
       "    }\n",
       "\n",
       "    .dataframe tbody tr th {\n",
       "        vertical-align: top;\n",
       "    }\n",
       "\n",
       "    .dataframe thead th {\n",
       "        text-align: right;\n",
       "    }\n",
       "</style>\n",
       "<table border=\"1\" class=\"dataframe\">\n",
       "  <thead>\n",
       "    <tr style=\"text-align: right;\">\n",
       "      <th></th>\n",
       "      <th>YearsCode</th>\n",
       "      <th>YearsCodePro</th>\n",
       "      <th>ConvertedCompYearly</th>\n",
       "    </tr>\n",
       "  </thead>\n",
       "  <tbody>\n",
       "    <tr>\n",
       "      <th>0</th>\n",
       "      <td>0</td>\n",
       "      <td>0</td>\n",
       "      <td>0.0</td>\n",
       "    </tr>\n",
       "    <tr>\n",
       "      <th>1</th>\n",
       "      <td>18</td>\n",
       "      <td>9</td>\n",
       "      <td>285000.0</td>\n",
       "    </tr>\n",
       "    <tr>\n",
       "      <th>2</th>\n",
       "      <td>27</td>\n",
       "      <td>23</td>\n",
       "      <td>250000.0</td>\n",
       "    </tr>\n",
       "    <tr>\n",
       "      <th>3</th>\n",
       "      <td>12</td>\n",
       "      <td>7</td>\n",
       "      <td>156000.0</td>\n",
       "    </tr>\n",
       "    <tr>\n",
       "      <th>4</th>\n",
       "      <td>6</td>\n",
       "      <td>4</td>\n",
       "      <td>23456.0</td>\n",
       "    </tr>\n",
       "    <tr>\n",
       "      <th>...</th>\n",
       "      <td>...</td>\n",
       "      <td>...</td>\n",
       "      <td>...</td>\n",
       "    </tr>\n",
       "    <tr>\n",
       "      <th>89179</th>\n",
       "      <td>20</td>\n",
       "      <td>5</td>\n",
       "      <td>0.0</td>\n",
       "    </tr>\n",
       "    <tr>\n",
       "      <th>89180</th>\n",
       "      <td>5</td>\n",
       "      <td>0</td>\n",
       "      <td>0.0</td>\n",
       "    </tr>\n",
       "    <tr>\n",
       "      <th>89181</th>\n",
       "      <td>10</td>\n",
       "      <td>0</td>\n",
       "      <td>0.0</td>\n",
       "    </tr>\n",
       "    <tr>\n",
       "      <th>89182</th>\n",
       "      <td>3</td>\n",
       "      <td>0</td>\n",
       "      <td>0.0</td>\n",
       "    </tr>\n",
       "    <tr>\n",
       "      <th>89183</th>\n",
       "      <td>17</td>\n",
       "      <td>12</td>\n",
       "      <td>0.0</td>\n",
       "    </tr>\n",
       "  </tbody>\n",
       "</table>\n",
       "<p>89184 rows × 3 columns</p>\n",
       "</div>"
      ],
      "text/plain": [
       "      YearsCode YearsCodePro  ConvertedCompYearly\n",
       "0             0            0                  0.0\n",
       "1            18            9             285000.0\n",
       "2            27           23             250000.0\n",
       "3            12            7             156000.0\n",
       "4             6            4              23456.0\n",
       "...         ...          ...                  ...\n",
       "89179        20            5                  0.0\n",
       "89180         5            0                  0.0\n",
       "89181        10            0                  0.0\n",
       "89182         3            0                  0.0\n",
       "89183        17           12                  0.0\n",
       "\n",
       "[89184 rows x 3 columns]"
      ]
     },
     "execution_count": 26,
     "metadata": {},
     "output_type": "execute_result"
    }
   ],
   "source": [
    "#Replacing null values with 0 and Less than 1 year to 0.5 and more than 50 to 50.5\n",
    "coding = coding.fillna(0)\n",
    "\n",
    "coding"
   ]
  },
  {
   "cell_type": "code",
   "execution_count": 27,
   "id": "0dae1934",
   "metadata": {},
   "outputs": [],
   "source": [
    "coding.loc[coding.YearsCode == 'Less than 1 year', 'YearsCode'] = 0.5\n",
    "coding.loc[coding.YearsCode == 'More than 50 years', 'YearsCode'] = 50.5\n",
    "coding.YearsCode = coding.YearsCode.astype(float)\n",
    "\n",
    "coding.loc[coding.YearsCodePro == 'Less than 1 year', 'YearsCodePro'] = 0.5\n",
    "coding.loc[coding.YearsCodePro == 'More than 50 years', 'YearsCodePro'] = 50.5\n",
    "coding.YearsCodePro = coding.YearsCodePro.astype(float)"
   ]
  },
  {
   "cell_type": "code",
   "execution_count": 28,
   "id": "64e804ae",
   "metadata": {},
   "outputs": [
    {
     "name": "stdout",
     "output_type": "stream",
     "text": [
      "Correlation between Annual Income and Years of Experience in Coding: 0.0446\n",
      "\n",
      "Correlation between Annual Income and Years of Experience in Coding Professionally: 0.0562\n"
     ]
    }
   ],
   "source": [
    "# Finding the correlation values\n",
    "\n",
    "corr_all = coding.ConvertedCompYearly.corr(coding.YearsCode)\n",
    "corr_pro = coding.ConvertedCompYearly.corr(coding.YearsCodePro)\n",
    "\n",
    "print(f'Correlation between Annual Income and Years of Experience in Coding: {round(corr_all,4)}')\n",
    "print(f'\\nCorrelation between Annual Income and Years of Experience in Coding Professionally: {round(corr_pro,4)}')"
   ]
  },
  {
   "cell_type": "markdown",
   "id": "3ef6cfa5",
   "metadata": {},
   "source": [
    "Thus there is a **low positive correlation** between Annual Income and Years of Experience in Coding (0.0446). However, there is a **moderate positive correlation** between Annual Income and Years of Experience in Coding Professionally (0.0562).\n",
    "\n",
    "This can be further visualised with a scatterplot."
   ]
  },
  {
   "cell_type": "markdown",
   "id": "a6ce2d62",
   "metadata": {},
   "source": [
    "#### Scatter Plot - Correlation between Level of Pay and Coding Experience"
   ]
  },
  {
   "cell_type": "code",
   "execution_count": 29,
   "id": "eb453758",
   "metadata": {},
   "outputs": [
    {
     "data": {
      "image/png": "[encoded data removed]",
      "text/plain": [
       "<Figure size 720x720 with 1 Axes>"
      ]
     },
     "metadata": {
      "needs_background": "light"
     },
     "output_type": "display_data"
    }
   ],
   "source": [
    "a, b = np.polyfit(coding.YearsCode, coding.ConvertedCompYearly, 1)\n",
    "plt.figure(figsize = (10,10))\n",
    "plt.scatter(coding.YearsCode, coding.ConvertedCompYearly, color = colour_scheme[2], alpha = 0.1)\n",
    "plt.plot(coding.YearsCode, a*coding.YearsCode+b, color = 'red')\n",
    "plt.title('Correlation between Level of Pay and Coding Experience')\n",
    "plt.xlabel('Years of Experience in Coding')\n",
    "plt.ylabel('Annual Income')\n",
    "plt.axis([0, 51, 0, 2000000])\n",
    "plt.show()"
   ]
  },
  {
   "cell_type": "markdown",
   "id": "87025750",
   "metadata": {},
   "source": [
    "#### Scatter Plot - Correlation between Level of Pay and Professional Coding Experience"
   ]
  },
  {
   "cell_type": "code",
   "execution_count": 30,
   "id": "5edbfa04",
   "metadata": {},
   "outputs": [
    {
     "data": {
      "image/png": "[encoded data removed]",
      "text/plain": [
       "<Figure size 720x720 with 1 Axes>"
      ]
     },
     "metadata": {
      "needs_background": "light"
     },
     "output_type": "display_data"
    }
   ],
   "source": [
    "c, d = np.polyfit(coding.YearsCodePro, coding.ConvertedCompYearly, 1)\n",
    "plt.figure(figsize = (10,10))\n",
    "plt.scatter(coding.YearsCodePro, coding.ConvertedCompYearly, color = colour_scheme[0], alpha = 0.1)\n",
    "plt.plot(coding.YearsCodePro, c*coding.YearsCodePro+d, color = 'red')\n",
    "plt.title('Correlation between Level of Pay and Coding Experience Professionally')\n",
    "plt.xlabel('Years of Experience in Coding Professionally')\n",
    "plt.ylabel('Annual Income')\n",
    "plt.axis([0, 51, 0, 2000000])\n",
    "plt.show()"
   ]
  },
  {
   "cell_type": "markdown",
   "id": "1607afcf",
   "metadata": {},
   "source": [
    "### What is the most popular method of learning to code?"
   ]
  },
  {
   "cell_type": "code",
   "execution_count": 31,
   "id": "cb78e9e1",
   "metadata": {},
   "outputs": [
    {
     "data": {
      "text/plain": [
       "LearnCode\n",
       "Other online resources (e.g., videos, blogs, forum)                                                                                                                                                             4873\n",
       "Books / Physical media;Other online resources (e.g., videos, blogs, forum)                                                                                                                                      3300\n",
       "Other online resources (e.g., videos, blogs, forum);School (i.e., University, College, etc)                                                                                                                     3070\n",
       "Books / Physical media;Online Courses or Certification;Other online resources (e.g., videos, blogs, forum)                                                                                                      3024\n",
       "Online Courses or Certification;Other online resources (e.g., videos, blogs, forum)                                                                                                                             2871\n",
       "                                                                                                                                                                                                                ... \n",
       "Colleague;Friend or family member;Hackathons (virtual or in-person);Other online resources (e.g., videos, blogs, forum);Coding Bootcamp                                                                            1\n",
       "Books / Physical media;Colleague;Hackathons (virtual or in-person);On the job training;Coding Bootcamp                                                                                                             1\n",
       "Books / Physical media;Hackathons (virtual or in-person);Online Courses or Certification;Other online resources (e.g., videos, blogs, forum);School (i.e., University, College, etc);Other (please specify):       1\n",
       "Books / Physical media;Friend or family member;Hackathons (virtual or in-person);On the job training;Other online resources (e.g., videos, blogs, forum);Coding Bootcamp;Other (please specify):                   1\n",
       "Colleague;Hackathons (virtual or in-person);Coding Bootcamp                                                                                                                                                        1\n",
       "Name: count, Length: 790, dtype: int64"
      ]
     },
     "execution_count": 31,
     "metadata": {},
     "output_type": "execute_result"
    }
   ],
   "source": [
    "# Taking a look at LearnCode\n",
    "results.LearnCode.value_counts()"
   ]
  },
  {
   "cell_type": "code",
   "execution_count": 32,
   "id": "6e9fae00",
   "metadata": {},
   "outputs": [],
   "source": [
    "# Counting the options\n",
    "learn_count = []\n",
    "for value in results.LearnCode:\n",
    "    try:\n",
    "        learn_count.append(value.split(';'))\n",
    "    except:\n",
    "        pass"
   ]
  },
  {
   "cell_type": "code",
   "execution_count": 33,
   "id": "d247a38a",
   "metadata": {},
   "outputs": [],
   "source": [
    "# Flattening list and making a series\n",
    "def flatten(l):\n",
    "    return [item for sublist in l for item in sublist]\n",
    "\n",
    "learn_count = flatten(learn_count)\n",
    "learn_count = pd.Series(learn_count)"
   ]
  },
  {
   "cell_type": "code",
   "execution_count": 34,
   "id": "dcc4d121",
   "metadata": {},
   "outputs": [
    {
     "data": {
      "text/plain": [
       "Other online resources (e.g., videos, blogs, forum)    70244\n",
       "Books / Physical media                                 45406\n",
       "School (i.e., University, College, etc)                43957\n",
       "Online Courses or Certification                        43201\n",
       "On the job training                                    40380\n",
       "Colleague                                              20523\n",
       "Friend or family member                                 9936\n",
       "Coding Bootcamp                                         8602\n",
       "Hackathons (virtual or in-person)                       7033\n",
       "Other (please specify):                                 5451\n",
       "Name: count, dtype: int64"
      ]
     },
     "execution_count": 34,
     "metadata": {},
     "output_type": "execute_result"
    }
   ],
   "source": [
    "learn_count.value_counts()"
   ]
  },
  {
   "cell_type": "code",
   "execution_count": 35,
   "id": "fe6c27a3",
   "metadata": {},
   "outputs": [],
   "source": [
    "# Making a dataframe\n",
    "modes_list = [\n",
    "    'Online Videos, Blogs, Forums',\n",
    "    'Books',\n",
    "    'School',\n",
    "    'Online Certification Courses',\n",
    "    'On-the-job Tranining',\n",
    "    'Colleague',\n",
    "    'Friend or Family',\n",
    "    'Coding Bootcamp',\n",
    "    'Hackathons',\n",
    "    'Other'\n",
    "]\n",
    "\n",
    "learncode = pd.DataFrame(modes_list, columns = ['Modes of Learning'])\n",
    "learncode['Count'] = list(learn_count.value_counts())"
   ]
  },
  {
   "cell_type": "code",
   "execution_count": 36,
   "id": "065d9aaf",
   "metadata": {},
   "outputs": [
    {
     "data": {
      "text/html": [
       "<div>\n",
       "<style scoped>\n",
       "    .dataframe tbody tr th:only-of-type {\n",
       "        vertical-align: middle;\n",
       "    }\n",
       "\n",
       "    .dataframe tbody tr th {\n",
       "        vertical-align: top;\n",
       "    }\n",
       "\n",
       "    .dataframe thead th {\n",
       "        text-align: right;\n",
       "    }\n",
       "</style>\n",
       "<table border=\"1\" class=\"dataframe\">\n",
       "  <thead>\n",
       "    <tr style=\"text-align: right;\">\n",
       "      <th></th>\n",
       "      <th>Modes of Learning</th>\n",
       "      <th>Count</th>\n",
       "    </tr>\n",
       "  </thead>\n",
       "  <tbody>\n",
       "    <tr>\n",
       "      <th>0</th>\n",
       "      <td>Online Videos, Blogs, Forums</td>\n",
       "      <td>70244</td>\n",
       "    </tr>\n",
       "    <tr>\n",
       "      <th>1</th>\n",
       "      <td>Books</td>\n",
       "      <td>45406</td>\n",
       "    </tr>\n",
       "    <tr>\n",
       "      <th>2</th>\n",
       "      <td>School</td>\n",
       "      <td>43957</td>\n",
       "    </tr>\n",
       "    <tr>\n",
       "      <th>3</th>\n",
       "      <td>Online Certification Courses</td>\n",
       "      <td>43201</td>\n",
       "    </tr>\n",
       "    <tr>\n",
       "      <th>4</th>\n",
       "      <td>On-the-job Tranining</td>\n",
       "      <td>40380</td>\n",
       "    </tr>\n",
       "    <tr>\n",
       "      <th>5</th>\n",
       "      <td>Colleague</td>\n",
       "      <td>20523</td>\n",
       "    </tr>\n",
       "    <tr>\n",
       "      <th>6</th>\n",
       "      <td>Friend or Family</td>\n",
       "      <td>9936</td>\n",
       "    </tr>\n",
       "    <tr>\n",
       "      <th>7</th>\n",
       "      <td>Coding Bootcamp</td>\n",
       "      <td>8602</td>\n",
       "    </tr>\n",
       "    <tr>\n",
       "      <th>8</th>\n",
       "      <td>Hackathons</td>\n",
       "      <td>7033</td>\n",
       "    </tr>\n",
       "    <tr>\n",
       "      <th>9</th>\n",
       "      <td>Other</td>\n",
       "      <td>5451</td>\n",
       "    </tr>\n",
       "  </tbody>\n",
       "</table>\n",
       "</div>"
      ],
      "text/plain": [
       "              Modes of Learning  Count\n",
       "0  Online Videos, Blogs, Forums  70244\n",
       "1                         Books  45406\n",
       "2                        School  43957\n",
       "3  Online Certification Courses  43201\n",
       "4          On-the-job Tranining  40380\n",
       "5                     Colleague  20523\n",
       "6              Friend or Family   9936\n",
       "7               Coding Bootcamp   8602\n",
       "8                    Hackathons   7033\n",
       "9                         Other   5451"
      ]
     },
     "execution_count": 36,
     "metadata": {},
     "output_type": "execute_result"
    }
   ],
   "source": [
    "learncode"
   ]
  },
  {
   "cell_type": "markdown",
   "id": "9c9f33ea",
   "metadata": {},
   "source": [
    "#### Bar Graph - Popularity of Methods of Learning to Code"
   ]
  },
  {
   "cell_type": "code",
   "execution_count": 37,
   "id": "b405496c",
   "metadata": {},
   "outputs": [
    {
     "data": {
      "image/png": "[encoded data removed]",
      "text/plain": [
       "<Figure size 1080x504 with 1 Axes>"
      ]
     },
     "metadata": {
      "needs_background": "light"
     },
     "output_type": "display_data"
    }
   ],
   "source": [
    "plt.figure(figsize = (15,7))\n",
    "plt.bar(learncode['Modes of Learning'] , learncode.Count, color = colour_scheme[5])\n",
    "                                                                               \n",
    "plt.xticks(rotation=90)\n",
    "plt.title('Popularity of Methods of Learning to Code')\n",
    "plt.xlabel('Modes of Learning')\n",
    "plt.ylabel('Number of Developers')\n",
    "addlabels(learncode['Modes of Learning'] , learncode.Count)\n",
    "plt.show()"
   ]
  },
  {
   "cell_type": "markdown",
   "id": "256ce632",
   "metadata": {},
   "source": [
    "From the bar graph, it is observed that the **most popular method of learning to code** is using **Online Videos, Blogs and Forums (70244).**"
   ]
  },
  {
   "cell_type": "markdown",
   "id": "56c33c5c",
   "metadata": {},
   "source": [
    "### Are you more likely to get a job as a developer if you have a master's degree?"
   ]
  },
  {
   "cell_type": "code",
   "execution_count": 38,
   "id": "32f924a1",
   "metadata": {
    "scrolled": true
   },
   "outputs": [
    {
     "data": {
      "text/plain": [
       "EdLevel\n",
       "Bachelor’s degree (B.A., B.S., B.Eng., etc.)                                          36706\n",
       "Master’s degree (M.A., M.S., M.Eng., MBA, etc.)                                       20543\n",
       "Some college/university study without earning a degree                                11753\n",
       "Secondary school (e.g. American high school, German Realschule or Gymnasium, etc.)     8897\n",
       "Professional degree (JD, MD, Ph.D, Ed.D, etc.)                                         3887\n",
       "Associate degree (A.A., A.S., etc.)                                                    2807\n",
       "Primary/elementary school                                                              1905\n",
       "Something else                                                                         1475\n",
       "Name: count, dtype: int64"
      ]
     },
     "execution_count": 38,
     "metadata": {},
     "output_type": "execute_result"
    }
   ],
   "source": [
    "# Taking a look at EdLevel\n",
    "results.EdLevel.value_counts()"
   ]
  },
  {
   "cell_type": "code",
   "execution_count": 39,
   "id": "620f386a",
   "metadata": {},
   "outputs": [],
   "source": [
    "# Making a dataframe of employed and unemployed developers\n",
    "employed = results.loc[results.Industry.notna()]\n",
    "unemployed = results.loc[results.Industry.isna()]"
   ]
  },
  {
   "cell_type": "code",
   "execution_count": 40,
   "id": "56f0b10e",
   "metadata": {
    "scrolled": true
   },
   "outputs": [
    {
     "data": {
      "text/html": [
       "<div>\n",
       "<style scoped>\n",
       "    .dataframe tbody tr th:only-of-type {\n",
       "        vertical-align: middle;\n",
       "    }\n",
       "\n",
       "    .dataframe tbody tr th {\n",
       "        vertical-align: top;\n",
       "    }\n",
       "\n",
       "    .dataframe thead th {\n",
       "        text-align: right;\n",
       "    }\n",
       "</style>\n",
       "<table border=\"1\" class=\"dataframe\">\n",
       "  <thead>\n",
       "    <tr style=\"text-align: right;\">\n",
       "      <th></th>\n",
       "      <th>ResponseId</th>\n",
       "      <th>Q120</th>\n",
       "      <th>MainBranch</th>\n",
       "      <th>Age</th>\n",
       "      <th>Employment</th>\n",
       "      <th>RemoteWork</th>\n",
       "      <th>CodingActivities</th>\n",
       "      <th>EdLevel</th>\n",
       "      <th>LearnCode</th>\n",
       "      <th>LearnCodeOnline</th>\n",
       "      <th>...</th>\n",
       "      <th>Frequency_1</th>\n",
       "      <th>Frequency_2</th>\n",
       "      <th>Frequency_3</th>\n",
       "      <th>TimeSearching</th>\n",
       "      <th>TimeAnswering</th>\n",
       "      <th>ProfessionalTech</th>\n",
       "      <th>Industry</th>\n",
       "      <th>SurveyLength</th>\n",
       "      <th>SurveyEase</th>\n",
       "      <th>ConvertedCompYearly</th>\n",
       "    </tr>\n",
       "  </thead>\n",
       "  <tbody>\n",
       "    <tr>\n",
       "      <th>1</th>\n",
       "      <td>2</td>\n",
       "      <td>I agree</td>\n",
       "      <td>I am a developer by profession</td>\n",
       "      <td>25-34 years old</td>\n",
       "      <td>Employed, full-time</td>\n",
       "      <td>Remote</td>\n",
       "      <td>Hobby;Contribute to open-source projects;Boots...</td>\n",
       "      <td>Bachelor’s degree (B.A., B.S., B.Eng., etc.)</td>\n",
       "      <td>Books / Physical media;Colleague;Friend or fam...</td>\n",
       "      <td>Formal documentation provided by the owner of ...</td>\n",
       "      <td>...</td>\n",
       "      <td>1-2 times a week</td>\n",
       "      <td>10+ times a week</td>\n",
       "      <td>Never</td>\n",
       "      <td>15-30 minutes a day</td>\n",
       "      <td>15-30 minutes a day</td>\n",
       "      <td>DevOps function;Microservices;Automated testin...</td>\n",
       "      <td>Information Services, IT, Software Development...</td>\n",
       "      <td>Appropriate in length</td>\n",
       "      <td>Easy</td>\n",
       "      <td>285000.0</td>\n",
       "    </tr>\n",
       "    <tr>\n",
       "      <th>2</th>\n",
       "      <td>3</td>\n",
       "      <td>I agree</td>\n",
       "      <td>I am a developer by profession</td>\n",
       "      <td>45-54 years old</td>\n",
       "      <td>Employed, full-time</td>\n",
       "      <td>Hybrid (some remote, some in-person)</td>\n",
       "      <td>Hobby;Professional development or self-paced l...</td>\n",
       "      <td>Bachelor’s degree (B.A., B.S., B.Eng., etc.)</td>\n",
       "      <td>Books / Physical media;Colleague;On the job tr...</td>\n",
       "      <td>Formal documentation provided by the owner of ...</td>\n",
       "      <td>...</td>\n",
       "      <td>6-10 times a week</td>\n",
       "      <td>6-10 times a week</td>\n",
       "      <td>3-5 times a week</td>\n",
       "      <td>30-60 minutes a day</td>\n",
       "      <td>30-60 minutes a day</td>\n",
       "      <td>DevOps function;Microservices;Automated testin...</td>\n",
       "      <td>Information Services, IT, Software Development...</td>\n",
       "      <td>Appropriate in length</td>\n",
       "      <td>Easy</td>\n",
       "      <td>250000.0</td>\n",
       "    </tr>\n",
       "    <tr>\n",
       "      <th>4</th>\n",
       "      <td>5</td>\n",
       "      <td>I agree</td>\n",
       "      <td>I am a developer by profession</td>\n",
       "      <td>25-34 years old</td>\n",
       "      <td>Employed, full-time;Independent contractor, fr...</td>\n",
       "      <td>Remote</td>\n",
       "      <td>Hobby;Contribute to open-source projects;Profe...</td>\n",
       "      <td>Bachelor’s degree (B.A., B.S., B.Eng., etc.)</td>\n",
       "      <td>Books / Physical media;Online Courses or Certi...</td>\n",
       "      <td>Formal documentation provided by the owner of ...</td>\n",
       "      <td>...</td>\n",
       "      <td>1-2 times a week</td>\n",
       "      <td>1-2 times a week</td>\n",
       "      <td>3-5 times a week</td>\n",
       "      <td>60-120 minutes a day</td>\n",
       "      <td>30-60 minutes a day</td>\n",
       "      <td>Microservices;Automated testing;Observability ...</td>\n",
       "      <td>Other</td>\n",
       "      <td>Appropriate in length</td>\n",
       "      <td>Neither easy nor difficult</td>\n",
       "      <td>23456.0</td>\n",
       "    </tr>\n",
       "    <tr>\n",
       "      <th>5</th>\n",
       "      <td>6</td>\n",
       "      <td>I agree</td>\n",
       "      <td>I am a developer by profession</td>\n",
       "      <td>35-44 years old</td>\n",
       "      <td>Employed, full-time</td>\n",
       "      <td>Remote</td>\n",
       "      <td>Hobby;Professional development or self-paced l...</td>\n",
       "      <td>Some college/university study without earning ...</td>\n",
       "      <td>Books / Physical media;Colleague;Online Course...</td>\n",
       "      <td>Formal documentation provided by the owner of ...</td>\n",
       "      <td>...</td>\n",
       "      <td>1-2 times a week</td>\n",
       "      <td>1-2 times a week</td>\n",
       "      <td>3-5 times a week</td>\n",
       "      <td>30-60 minutes a day</td>\n",
       "      <td>15-30 minutes a day</td>\n",
       "      <td>DevOps function;Microservices;Observability to...</td>\n",
       "      <td>Other</td>\n",
       "      <td>Appropriate in length</td>\n",
       "      <td>Neither easy nor difficult</td>\n",
       "      <td>96828.0</td>\n",
       "    </tr>\n",
       "    <tr>\n",
       "      <th>6</th>\n",
       "      <td>7</td>\n",
       "      <td>I agree</td>\n",
       "      <td>I am a developer by profession</td>\n",
       "      <td>35-44 years old</td>\n",
       "      <td>Employed, full-time</td>\n",
       "      <td>Remote</td>\n",
       "      <td>Hobby;Contribute to open-source projects;Profe...</td>\n",
       "      <td>Some college/university study without earning ...</td>\n",
       "      <td>Friend or family member;Online Courses or Cert...</td>\n",
       "      <td>NaN</td>\n",
       "      <td>...</td>\n",
       "      <td>1-2 times a week</td>\n",
       "      <td>3-5 times a week</td>\n",
       "      <td>1-2 times a week</td>\n",
       "      <td>Less than 15 minutes a day</td>\n",
       "      <td>15-30 minutes a day</td>\n",
       "      <td>Microservices;Automated testing;Continuous int...</td>\n",
       "      <td>Information Services, IT, Software Development...</td>\n",
       "      <td>Appropriate in length</td>\n",
       "      <td>Easy</td>\n",
       "      <td>135000.0</td>\n",
       "    </tr>\n",
       "  </tbody>\n",
       "</table>\n",
       "<p>5 rows × 84 columns</p>\n",
       "</div>"
      ],
      "text/plain": [
       "   ResponseId     Q120                      MainBranch              Age  \\\n",
       "1           2  I agree  I am a developer by profession  25-34 years old   \n",
       "2           3  I agree  I am a developer by profession  45-54 years old   \n",
       "4           5  I agree  I am a developer by profession  25-34 years old   \n",
       "5           6  I agree  I am a developer by profession  35-44 years old   \n",
       "6           7  I agree  I am a developer by profession  35-44 years old   \n",
       "\n",
       "                                          Employment  \\\n",
       "1                                Employed, full-time   \n",
       "2                                Employed, full-time   \n",
       "4  Employed, full-time;Independent contractor, fr...   \n",
       "5                                Employed, full-time   \n",
       "6                                Employed, full-time   \n",
       "\n",
       "                             RemoteWork  \\\n",
       "1                                Remote   \n",
       "2  Hybrid (some remote, some in-person)   \n",
       "4                                Remote   \n",
       "5                                Remote   \n",
       "6                                Remote   \n",
       "\n",
       "                                    CodingActivities  \\\n",
       "1  Hobby;Contribute to open-source projects;Boots...   \n",
       "2  Hobby;Professional development or self-paced l...   \n",
       "4  Hobby;Contribute to open-source projects;Profe...   \n",
       "5  Hobby;Professional development or self-paced l...   \n",
       "6  Hobby;Contribute to open-source projects;Profe...   \n",
       "\n",
       "                                             EdLevel  \\\n",
       "1       Bachelor’s degree (B.A., B.S., B.Eng., etc.)   \n",
       "2       Bachelor’s degree (B.A., B.S., B.Eng., etc.)   \n",
       "4       Bachelor’s degree (B.A., B.S., B.Eng., etc.)   \n",
       "5  Some college/university study without earning ...   \n",
       "6  Some college/university study without earning ...   \n",
       "\n",
       "                                           LearnCode  \\\n",
       "1  Books / Physical media;Colleague;Friend or fam...   \n",
       "2  Books / Physical media;Colleague;On the job tr...   \n",
       "4  Books / Physical media;Online Courses or Certi...   \n",
       "5  Books / Physical media;Colleague;Online Course...   \n",
       "6  Friend or family member;Online Courses or Cert...   \n",
       "\n",
       "                                     LearnCodeOnline  ...        Frequency_1  \\\n",
       "1  Formal documentation provided by the owner of ...  ...   1-2 times a week   \n",
       "2  Formal documentation provided by the owner of ...  ...  6-10 times a week   \n",
       "4  Formal documentation provided by the owner of ...  ...   1-2 times a week   \n",
       "5  Formal documentation provided by the owner of ...  ...   1-2 times a week   \n",
       "6                                                NaN  ...   1-2 times a week   \n",
       "\n",
       "         Frequency_2       Frequency_3               TimeSearching  \\\n",
       "1   10+ times a week             Never         15-30 minutes a day   \n",
       "2  6-10 times a week  3-5 times a week         30-60 minutes a day   \n",
       "4   1-2 times a week  3-5 times a week        60-120 minutes a day   \n",
       "5   1-2 times a week  3-5 times a week         30-60 minutes a day   \n",
       "6   3-5 times a week  1-2 times a week  Less than 15 minutes a day   \n",
       "\n",
       "         TimeAnswering                                   ProfessionalTech  \\\n",
       "1  15-30 minutes a day  DevOps function;Microservices;Automated testin...   \n",
       "2  30-60 minutes a day  DevOps function;Microservices;Automated testin...   \n",
       "4  30-60 minutes a day  Microservices;Automated testing;Observability ...   \n",
       "5  15-30 minutes a day  DevOps function;Microservices;Observability to...   \n",
       "6  15-30 minutes a day  Microservices;Automated testing;Continuous int...   \n",
       "\n",
       "                                            Industry           SurveyLength  \\\n",
       "1  Information Services, IT, Software Development...  Appropriate in length   \n",
       "2  Information Services, IT, Software Development...  Appropriate in length   \n",
       "4                                              Other  Appropriate in length   \n",
       "5                                              Other  Appropriate in length   \n",
       "6  Information Services, IT, Software Development...  Appropriate in length   \n",
       "\n",
       "                   SurveyEase ConvertedCompYearly  \n",
       "1                        Easy            285000.0  \n",
       "2                        Easy            250000.0  \n",
       "4  Neither easy nor difficult             23456.0  \n",
       "5  Neither easy nor difficult             96828.0  \n",
       "6                        Easy            135000.0  \n",
       "\n",
       "[5 rows x 84 columns]"
      ]
     },
     "execution_count": 40,
     "metadata": {},
     "output_type": "execute_result"
    }
   ],
   "source": [
    "employed.head()"
   ]
  },
  {
   "cell_type": "code",
   "execution_count": 41,
   "id": "0e9131c6",
   "metadata": {},
   "outputs": [
    {
     "data": {
      "text/html": [
       "<div>\n",
       "<style scoped>\n",
       "    .dataframe tbody tr th:only-of-type {\n",
       "        vertical-align: middle;\n",
       "    }\n",
       "\n",
       "    .dataframe tbody tr th {\n",
       "        vertical-align: top;\n",
       "    }\n",
       "\n",
       "    .dataframe thead th {\n",
       "        text-align: right;\n",
       "    }\n",
       "</style>\n",
       "<table border=\"1\" class=\"dataframe\">\n",
       "  <thead>\n",
       "    <tr style=\"text-align: right;\">\n",
       "      <th></th>\n",
       "      <th>ResponseId</th>\n",
       "      <th>Q120</th>\n",
       "      <th>MainBranch</th>\n",
       "      <th>Age</th>\n",
       "      <th>Employment</th>\n",
       "      <th>RemoteWork</th>\n",
       "      <th>CodingActivities</th>\n",
       "      <th>EdLevel</th>\n",
       "      <th>LearnCode</th>\n",
       "      <th>LearnCodeOnline</th>\n",
       "      <th>...</th>\n",
       "      <th>Frequency_1</th>\n",
       "      <th>Frequency_2</th>\n",
       "      <th>Frequency_3</th>\n",
       "      <th>TimeSearching</th>\n",
       "      <th>TimeAnswering</th>\n",
       "      <th>ProfessionalTech</th>\n",
       "      <th>Industry</th>\n",
       "      <th>SurveyLength</th>\n",
       "      <th>SurveyEase</th>\n",
       "      <th>ConvertedCompYearly</th>\n",
       "    </tr>\n",
       "  </thead>\n",
       "  <tbody>\n",
       "    <tr>\n",
       "      <th>0</th>\n",
       "      <td>1</td>\n",
       "      <td>I agree</td>\n",
       "      <td>None of these</td>\n",
       "      <td>18-24 years old</td>\n",
       "      <td>NaN</td>\n",
       "      <td>NaN</td>\n",
       "      <td>NaN</td>\n",
       "      <td>NaN</td>\n",
       "      <td>NaN</td>\n",
       "      <td>NaN</td>\n",
       "      <td>...</td>\n",
       "      <td>NaN</td>\n",
       "      <td>NaN</td>\n",
       "      <td>NaN</td>\n",
       "      <td>NaN</td>\n",
       "      <td>NaN</td>\n",
       "      <td>NaN</td>\n",
       "      <td>NaN</td>\n",
       "      <td>NaN</td>\n",
       "      <td>NaN</td>\n",
       "      <td>NaN</td>\n",
       "    </tr>\n",
       "    <tr>\n",
       "      <th>3</th>\n",
       "      <td>4</td>\n",
       "      <td>I agree</td>\n",
       "      <td>I am a developer by profession</td>\n",
       "      <td>25-34 years old</td>\n",
       "      <td>Employed, full-time</td>\n",
       "      <td>Hybrid (some remote, some in-person)</td>\n",
       "      <td>Hobby</td>\n",
       "      <td>Bachelor’s degree (B.A., B.S., B.Eng., etc.)</td>\n",
       "      <td>Colleague;Friend or family member;Other online...</td>\n",
       "      <td>Formal documentation provided by the owner of ...</td>\n",
       "      <td>...</td>\n",
       "      <td>1-2 times a week</td>\n",
       "      <td>10+ times a week</td>\n",
       "      <td>1-2 times a week</td>\n",
       "      <td>15-30 minutes a day</td>\n",
       "      <td>30-60 minutes a day</td>\n",
       "      <td>Automated testing;Continuous integration (CI) ...</td>\n",
       "      <td>NaN</td>\n",
       "      <td>Appropriate in length</td>\n",
       "      <td>Easy</td>\n",
       "      <td>156000.0</td>\n",
       "    </tr>\n",
       "    <tr>\n",
       "      <th>8</th>\n",
       "      <td>9</td>\n",
       "      <td>I agree</td>\n",
       "      <td>I am not primarily a developer, but I write co...</td>\n",
       "      <td>45-54 years old</td>\n",
       "      <td>Employed, full-time</td>\n",
       "      <td>Hybrid (some remote, some in-person)</td>\n",
       "      <td>Hobby;Contribute to open-source projects</td>\n",
       "      <td>Master’s degree (M.A., M.S., M.Eng., MBA, etc.)</td>\n",
       "      <td>Online Courses or Certification;On the job tra...</td>\n",
       "      <td>Formal documentation provided by the owner of ...</td>\n",
       "      <td>...</td>\n",
       "      <td>NaN</td>\n",
       "      <td>NaN</td>\n",
       "      <td>NaN</td>\n",
       "      <td>NaN</td>\n",
       "      <td>NaN</td>\n",
       "      <td>NaN</td>\n",
       "      <td>NaN</td>\n",
       "      <td>Appropriate in length</td>\n",
       "      <td>Neither easy nor difficult</td>\n",
       "      <td>64254.0</td>\n",
       "    </tr>\n",
       "    <tr>\n",
       "      <th>9</th>\n",
       "      <td>10</td>\n",
       "      <td>I agree</td>\n",
       "      <td>I am a developer by profession</td>\n",
       "      <td>25-34 years old</td>\n",
       "      <td>Not employed, but looking for work</td>\n",
       "      <td>NaN</td>\n",
       "      <td>NaN</td>\n",
       "      <td>Bachelor’s degree (B.A., B.S., B.Eng., etc.)</td>\n",
       "      <td>Books / Physical media;Online Courses or Certi...</td>\n",
       "      <td>Formal documentation provided by the owner of ...</td>\n",
       "      <td>...</td>\n",
       "      <td>NaN</td>\n",
       "      <td>NaN</td>\n",
       "      <td>NaN</td>\n",
       "      <td>NaN</td>\n",
       "      <td>NaN</td>\n",
       "      <td>NaN</td>\n",
       "      <td>NaN</td>\n",
       "      <td>Appropriate in length</td>\n",
       "      <td>Neither easy nor difficult</td>\n",
       "      <td>NaN</td>\n",
       "    </tr>\n",
       "    <tr>\n",
       "      <th>11</th>\n",
       "      <td>12</td>\n",
       "      <td>I agree</td>\n",
       "      <td>I am a developer by profession</td>\n",
       "      <td>25-34 years old</td>\n",
       "      <td>Employed, full-time</td>\n",
       "      <td>Remote</td>\n",
       "      <td>Hobby</td>\n",
       "      <td>Bachelor’s degree (B.A., B.S., B.Eng., etc.)</td>\n",
       "      <td>Online Courses or Certification;Other online r...</td>\n",
       "      <td>Formal documentation provided by the owner of ...</td>\n",
       "      <td>...</td>\n",
       "      <td>NaN</td>\n",
       "      <td>NaN</td>\n",
       "      <td>NaN</td>\n",
       "      <td>NaN</td>\n",
       "      <td>NaN</td>\n",
       "      <td>NaN</td>\n",
       "      <td>NaN</td>\n",
       "      <td>Appropriate in length</td>\n",
       "      <td>Easy</td>\n",
       "      <td>78003.0</td>\n",
       "    </tr>\n",
       "  </tbody>\n",
       "</table>\n",
       "<p>5 rows × 84 columns</p>\n",
       "</div>"
      ],
      "text/plain": [
       "    ResponseId     Q120                                         MainBranch  \\\n",
       "0            1  I agree                                      None of these   \n",
       "3            4  I agree                     I am a developer by profession   \n",
       "8            9  I agree  I am not primarily a developer, but I write co...   \n",
       "9           10  I agree                     I am a developer by profession   \n",
       "11          12  I agree                     I am a developer by profession   \n",
       "\n",
       "                Age                          Employment  \\\n",
       "0   18-24 years old                                 NaN   \n",
       "3   25-34 years old                 Employed, full-time   \n",
       "8   45-54 years old                 Employed, full-time   \n",
       "9   25-34 years old  Not employed, but looking for work   \n",
       "11  25-34 years old                 Employed, full-time   \n",
       "\n",
       "                              RemoteWork  \\\n",
       "0                                    NaN   \n",
       "3   Hybrid (some remote, some in-person)   \n",
       "8   Hybrid (some remote, some in-person)   \n",
       "9                                    NaN   \n",
       "11                                Remote   \n",
       "\n",
       "                            CodingActivities  \\\n",
       "0                                        NaN   \n",
       "3                                      Hobby   \n",
       "8   Hobby;Contribute to open-source projects   \n",
       "9                                        NaN   \n",
       "11                                     Hobby   \n",
       "\n",
       "                                            EdLevel  \\\n",
       "0                                               NaN   \n",
       "3      Bachelor’s degree (B.A., B.S., B.Eng., etc.)   \n",
       "8   Master’s degree (M.A., M.S., M.Eng., MBA, etc.)   \n",
       "9      Bachelor’s degree (B.A., B.S., B.Eng., etc.)   \n",
       "11     Bachelor’s degree (B.A., B.S., B.Eng., etc.)   \n",
       "\n",
       "                                            LearnCode  \\\n",
       "0                                                 NaN   \n",
       "3   Colleague;Friend or family member;Other online...   \n",
       "8   Online Courses or Certification;On the job tra...   \n",
       "9   Books / Physical media;Online Courses or Certi...   \n",
       "11  Online Courses or Certification;Other online r...   \n",
       "\n",
       "                                      LearnCodeOnline  ...       Frequency_1  \\\n",
       "0                                                 NaN  ...               NaN   \n",
       "3   Formal documentation provided by the owner of ...  ...  1-2 times a week   \n",
       "8   Formal documentation provided by the owner of ...  ...               NaN   \n",
       "9   Formal documentation provided by the owner of ...  ...               NaN   \n",
       "11  Formal documentation provided by the owner of ...  ...               NaN   \n",
       "\n",
       "         Frequency_2       Frequency_3        TimeSearching  \\\n",
       "0                NaN               NaN                  NaN   \n",
       "3   10+ times a week  1-2 times a week  15-30 minutes a day   \n",
       "8                NaN               NaN                  NaN   \n",
       "9                NaN               NaN                  NaN   \n",
       "11               NaN               NaN                  NaN   \n",
       "\n",
       "          TimeAnswering                                   ProfessionalTech  \\\n",
       "0                   NaN                                                NaN   \n",
       "3   30-60 minutes a day  Automated testing;Continuous integration (CI) ...   \n",
       "8                   NaN                                                NaN   \n",
       "9                   NaN                                                NaN   \n",
       "11                  NaN                                                NaN   \n",
       "\n",
       "   Industry           SurveyLength                  SurveyEase  \\\n",
       "0       NaN                    NaN                         NaN   \n",
       "3       NaN  Appropriate in length                        Easy   \n",
       "8       NaN  Appropriate in length  Neither easy nor difficult   \n",
       "9       NaN  Appropriate in length  Neither easy nor difficult   \n",
       "11      NaN  Appropriate in length                        Easy   \n",
       "\n",
       "   ConvertedCompYearly  \n",
       "0                  NaN  \n",
       "3             156000.0  \n",
       "8              64254.0  \n",
       "9                  NaN  \n",
       "11             78003.0  \n",
       "\n",
       "[5 rows x 84 columns]"
      ]
     },
     "execution_count": 41,
     "metadata": {},
     "output_type": "execute_result"
    }
   ],
   "source": [
    "unemployed.head()"
   ]
  },
  {
   "cell_type": "code",
   "execution_count": 42,
   "id": "cec0de9e",
   "metadata": {
    "scrolled": false
   },
   "outputs": [
    {
     "data": {
      "text/plain": [
       "EdLevel\n",
       "Associate degree (A.A., A.S., etc.)                                                    1136\n",
       "Bachelor’s degree (B.A., B.S., B.Eng., etc.)                                          17510\n",
       "Master’s degree (M.A., M.S., M.Eng., MBA, etc.)                                        9927\n",
       "Primary/elementary school                                                               173\n",
       "Professional degree (JD, MD, Ph.D, Ed.D, etc.)                                         1679\n",
       "Secondary school (e.g. American high school, German Realschule or Gymnasium, etc.)     1686\n",
       "Some college/university study without earning a degree                                 4251\n",
       "Something else                                                                          412\n",
       "Name: count, dtype: int64"
      ]
     },
     "execution_count": 42,
     "metadata": {},
     "output_type": "execute_result"
    }
   ],
   "source": [
    "employed.EdLevel.value_counts().sort_index()"
   ]
  },
  {
   "cell_type": "code",
   "execution_count": 43,
   "id": "7030caba",
   "metadata": {},
   "outputs": [
    {
     "data": {
      "text/plain": [
       "EdLevel\n",
       "Associate degree (A.A., A.S., etc.)                                                    1671\n",
       "Bachelor’s degree (B.A., B.S., B.Eng., etc.)                                          19196\n",
       "Master’s degree (M.A., M.S., M.Eng., MBA, etc.)                                       10616\n",
       "Primary/elementary school                                                              1732\n",
       "Professional degree (JD, MD, Ph.D, Ed.D, etc.)                                         2208\n",
       "Secondary school (e.g. American high school, German Realschule or Gymnasium, etc.)     7211\n",
       "Some college/university study without earning a degree                                 7502\n",
       "Something else                                                                         1063\n",
       "Name: count, dtype: int64"
      ]
     },
     "execution_count": 43,
     "metadata": {},
     "output_type": "execute_result"
    }
   ],
   "source": [
    "unemployed.EdLevel.value_counts().sort_index()"
   ]
  },
  {
   "cell_type": "code",
   "execution_count": 44,
   "id": "37d80803",
   "metadata": {},
   "outputs": [],
   "source": [
    "edlevel_names = [\n",
    "    'Associate Degree',\n",
    "    \"Bachelor's\",\n",
    "    \"Master's\",\n",
    "    'Primary School',\n",
    "    'Professional Degree',\n",
    "    'Secondary School',\n",
    "    'College Study without Degree', \n",
    "    'Other'\n",
    "]\n",
    "edlevel = pd.DataFrame(edlevel_names, columns = ['Highest Education Level'])\n",
    "edlevel['Employed'] = list(employed.EdLevel.value_counts().sort_index())\n",
    "edlevel['Unemployed'] = list(unemployed.EdLevel.value_counts().sort_index())"
   ]
  },
  {
   "cell_type": "code",
   "execution_count": 45,
   "id": "84775ec4",
   "metadata": {},
   "outputs": [],
   "source": [
    "edlevel['Employment Percentage'] = round(((edlevel.Employed/(edlevel.Unemployed+edlevel.Employed))*100),2)"
   ]
  },
  {
   "cell_type": "code",
   "execution_count": 46,
   "id": "29077e59",
   "metadata": {
    "scrolled": true
   },
   "outputs": [],
   "source": [
    "edlevel.sort_values('Employment Percentage', ascending = False, ignore_index = True, inplace = True)"
   ]
  },
  {
   "cell_type": "code",
   "execution_count": 47,
   "id": "6c34d4c3",
   "metadata": {},
   "outputs": [
    {
     "data": {
      "text/html": [
       "<div>\n",
       "<style scoped>\n",
       "    .dataframe tbody tr th:only-of-type {\n",
       "        vertical-align: middle;\n",
       "    }\n",
       "\n",
       "    .dataframe tbody tr th {\n",
       "        vertical-align: top;\n",
       "    }\n",
       "\n",
       "    .dataframe thead th {\n",
       "        text-align: right;\n",
       "    }\n",
       "</style>\n",
       "<table border=\"1\" class=\"dataframe\">\n",
       "  <thead>\n",
       "    <tr style=\"text-align: right;\">\n",
       "      <th></th>\n",
       "      <th>Highest Education Level</th>\n",
       "      <th>Employed</th>\n",
       "      <th>Unemployed</th>\n",
       "      <th>Employment Percentage</th>\n",
       "    </tr>\n",
       "  </thead>\n",
       "  <tbody>\n",
       "    <tr>\n",
       "      <th>0</th>\n",
       "      <td>Master's</td>\n",
       "      <td>9927</td>\n",
       "      <td>10616</td>\n",
       "      <td>48.32</td>\n",
       "    </tr>\n",
       "    <tr>\n",
       "      <th>1</th>\n",
       "      <td>Bachelor's</td>\n",
       "      <td>17510</td>\n",
       "      <td>19196</td>\n",
       "      <td>47.70</td>\n",
       "    </tr>\n",
       "    <tr>\n",
       "      <th>2</th>\n",
       "      <td>Professional Degree</td>\n",
       "      <td>1679</td>\n",
       "      <td>2208</td>\n",
       "      <td>43.20</td>\n",
       "    </tr>\n",
       "    <tr>\n",
       "      <th>3</th>\n",
       "      <td>Associate Degree</td>\n",
       "      <td>1136</td>\n",
       "      <td>1671</td>\n",
       "      <td>40.47</td>\n",
       "    </tr>\n",
       "    <tr>\n",
       "      <th>4</th>\n",
       "      <td>College Study without Degree</td>\n",
       "      <td>4251</td>\n",
       "      <td>7502</td>\n",
       "      <td>36.17</td>\n",
       "    </tr>\n",
       "    <tr>\n",
       "      <th>5</th>\n",
       "      <td>Other</td>\n",
       "      <td>412</td>\n",
       "      <td>1063</td>\n",
       "      <td>27.93</td>\n",
       "    </tr>\n",
       "    <tr>\n",
       "      <th>6</th>\n",
       "      <td>Secondary School</td>\n",
       "      <td>1686</td>\n",
       "      <td>7211</td>\n",
       "      <td>18.95</td>\n",
       "    </tr>\n",
       "    <tr>\n",
       "      <th>7</th>\n",
       "      <td>Primary School</td>\n",
       "      <td>173</td>\n",
       "      <td>1732</td>\n",
       "      <td>9.08</td>\n",
       "    </tr>\n",
       "  </tbody>\n",
       "</table>\n",
       "</div>"
      ],
      "text/plain": [
       "        Highest Education Level  Employed  Unemployed  Employment Percentage\n",
       "0                      Master's      9927       10616                  48.32\n",
       "1                    Bachelor's     17510       19196                  47.70\n",
       "2           Professional Degree      1679        2208                  43.20\n",
       "3              Associate Degree      1136        1671                  40.47\n",
       "4  College Study without Degree      4251        7502                  36.17\n",
       "5                         Other       412        1063                  27.93\n",
       "6              Secondary School      1686        7211                  18.95\n",
       "7                Primary School       173        1732                   9.08"
      ]
     },
     "execution_count": 47,
     "metadata": {},
     "output_type": "execute_result"
    }
   ],
   "source": [
    "edlevel"
   ]
  },
  {
   "cell_type": "markdown",
   "id": "6c445e68",
   "metadata": {},
   "source": [
    "#### Bar Graph - Number of Employed and Unemployed Developers per Highest Education Level"
   ]
  },
  {
   "cell_type": "code",
   "execution_count": 48,
   "id": "e3153cee",
   "metadata": {},
   "outputs": [
    {
     "data": {
      "image/png": "[encoded data removed]",
      "text/plain": [
       "<Figure size 1080x720 with 1 Axes>"
      ]
     },
     "metadata": {
      "needs_background": "light"
     },
     "output_type": "display_data"
    }
   ],
   "source": [
    "X_axis = np.arange(len(edlevel['Highest Education Level']))\n",
    "\n",
    "plt.figure(figsize = (15,10))\n",
    "\n",
    "plt.bar(X_axis - 0.2 , edlevel['Employed'], 0.4 , color = colour_scheme[4], label = 'Employed')\n",
    "plt.bar(X_axis + 0.2 , edlevel['Unemployed'], 0.4 , color = colour_scheme[2], label = 'Unemployed')\n",
    "                                                                               \n",
    "plt.xticks(X_axis, edlevel['Highest Education Level'], rotation = 90)\n",
    "plt.title('Number of Employed and Unemployed Developers per Highest Education Level')\n",
    "plt.xlabel('Highest Education Level')\n",
    "plt.ylabel('Number of Developers')\n",
    "plt.legend()\n",
    "plt.show()"
   ]
  },
  {
   "cell_type": "markdown",
   "id": "50575eec",
   "metadata": {},
   "source": [
    "#### Bar Graph - Employment Percentage versus Highest Education Level"
   ]
  },
  {
   "cell_type": "code",
   "execution_count": 49,
   "id": "c3a008f3",
   "metadata": {},
   "outputs": [
    {
     "data": {
      "image/png": "[encoded data removed]",
      "text/plain": [
       "<Figure size 1080x504 with 1 Axes>"
      ]
     },
     "metadata": {
      "needs_background": "light"
     },
     "output_type": "display_data"
    }
   ],
   "source": [
    "plt.figure(figsize = (15,7))\n",
    "plt.bar(edlevel['Highest Education Level'] , edlevel['Employment Percentage'] , color = colour_scheme[3])\n",
    "                                                                               \n",
    "plt.xticks(rotation=90)\n",
    "plt.title('Employment Percentage versus Highest Education Level')\n",
    "plt.xlabel('Highest Education Level')\n",
    "plt.ylabel('Employment Percentage')\n",
    "addlabels(edlevel['Highest Education Level'] , edlevel['Employment Percentage'])\n",
    "plt.show()"
   ]
  },
  {
   "cell_type": "markdown",
   "id": "e7823141",
   "metadata": {},
   "source": [
    "From the bar graphs, it is observed that **developers holding a Bachelor's degree are much more in number**, both employed and unemployed. It is also clear that **developers having a Master's Degree have the highest Employment Percentage (48.32%).** However, it is **not significantly more than those holding only a Bachelor's Degree (47.7%).** "
   ]
  }
 ],
 "metadata": {
  "kernelspec": {
   "display_name": "Python 3 (ipykernel)",
   "language": "python",
   "name": "python3"
  },
  "language_info": {
   "codemirror_mode": {
    "name": "ipython",
    "version": 3
   },
   "file_extension": ".py",
   "mimetype": "text/x-python",
   "name": "python",
   "nbconvert_exporter": "python",
   "pygments_lexer": "ipython3",
   "version": "3.9.12"
  }
 },
 "nbformat": 4,
 "nbformat_minor": 5
}
